{
 "cells": [
  {
   "cell_type": "code",
   "execution_count": 1,
   "id": "fc4c0087-cbaa-4386-87ac-e304700df4cc",
   "metadata": {},
   "outputs": [
    {
     "name": "stdout",
     "output_type": "stream",
     "text": [
      "<class 'pandas.core.frame.DataFrame'>\n",
      "RangeIndex: 100 entries, 0 to 99\n",
      "Data columns (total 5 columns):\n",
      " #   Column     Non-Null Count  Dtype  \n",
      "---  ------     --------------  -----  \n",
      " 0   电影名称       100 non-null    object \n",
      " 1   主演         100 non-null    object \n",
      " 2   上映时间       100 non-null    object \n",
      " 3   猫眼链接（详情页）  100 non-null    object \n",
      " 4   评分         100 non-null    float64\n",
      "dtypes: float64(1), object(4)\n",
      "memory usage: 4.0+ KB\n",
      "None\n"
     ]
    }
   ],
   "source": [
    "import pandas as pd\n",
    "import matplotlib.pyplot as plt\n",
    "plt.rcParams['font.family'] = ['Microsoft Yahei', 'SimHei', 'sans-serif']\n",
    "\n",
    "data = pd.read_excel('maoyan.xlsx',sheet_name = None)\n",
    "df = pd.DataFrame(data[\"猫眼电影数据\"])\n",
    "\n",
    "print(df.info())"
   ]
  },
  {
   "cell_type": "code",
   "execution_count": 2,
   "id": "c0877855-b29d-47b0-ad81-dcd0761b27cd",
   "metadata": {},
   "outputs": [
    {
     "data": {
      "text/html": [
       "<div>\n",
       "<style scoped>\n",
       "    .dataframe tbody tr th:only-of-type {\n",
       "        vertical-align: middle;\n",
       "    }\n",
       "\n",
       "    .dataframe tbody tr th {\n",
       "        vertical-align: top;\n",
       "    }\n",
       "\n",
       "    .dataframe thead th {\n",
       "        text-align: right;\n",
       "    }\n",
       "</style>\n",
       "<table border=\"1\" class=\"dataframe\">\n",
       "  <thead>\n",
       "    <tr style=\"text-align: right;\">\n",
       "      <th></th>\n",
       "      <th>电影名称</th>\n",
       "      <th>上映时间</th>\n",
       "      <th>评分</th>\n",
       "    </tr>\n",
       "  </thead>\n",
       "  <tbody>\n",
       "    <tr>\n",
       "      <th>0</th>\n",
       "      <td>我不是药神</td>\n",
       "      <td>2018-07-05</td>\n",
       "      <td>9.6</td>\n",
       "    </tr>\n",
       "    <tr>\n",
       "      <th>1</th>\n",
       "      <td>肖申克的救赎</td>\n",
       "      <td>1994-09-10(加拿大)</td>\n",
       "      <td>9.5</td>\n",
       "    </tr>\n",
       "    <tr>\n",
       "      <th>3</th>\n",
       "      <td>绿皮书</td>\n",
       "      <td>2019-03-01</td>\n",
       "      <td>9.5</td>\n",
       "    </tr>\n",
       "    <tr>\n",
       "      <th>6</th>\n",
       "      <td>这个杀手不太冷</td>\n",
       "      <td>2024-11-01</td>\n",
       "      <td>9.6</td>\n",
       "    </tr>\n",
       "    <tr>\n",
       "      <th>9</th>\n",
       "      <td>泰坦尼克号</td>\n",
       "      <td>1998-04-03</td>\n",
       "      <td>9.6</td>\n",
       "    </tr>\n",
       "    <tr>\n",
       "      <th>15</th>\n",
       "      <td>哪吒之魔童降世</td>\n",
       "      <td>2019-07-26</td>\n",
       "      <td>9.6</td>\n",
       "    </tr>\n",
       "    <tr>\n",
       "      <th>17</th>\n",
       "      <td>寻梦环游记</td>\n",
       "      <td>2017-11-24</td>\n",
       "      <td>9.6</td>\n",
       "    </tr>\n",
       "    <tr>\n",
       "      <th>22</th>\n",
       "      <td>摔跤吧！爸爸</td>\n",
       "      <td>2017-05-05</td>\n",
       "      <td>9.8</td>\n",
       "    </tr>\n",
       "    <tr>\n",
       "      <th>23</th>\n",
       "      <td>放牛班的春天</td>\n",
       "      <td>2004-10-16</td>\n",
       "      <td>9.5</td>\n",
       "    </tr>\n",
       "    <tr>\n",
       "      <th>36</th>\n",
       "      <td>疯狂动物城</td>\n",
       "      <td>2016-03-04</td>\n",
       "      <td>9.5</td>\n",
       "    </tr>\n",
       "    <tr>\n",
       "      <th>44</th>\n",
       "      <td>海蒂和爷爷</td>\n",
       "      <td>2019-05-16</td>\n",
       "      <td>9.5</td>\n",
       "    </tr>\n",
       "    <tr>\n",
       "      <th>50</th>\n",
       "      <td>哪吒之魔童闹海</td>\n",
       "      <td>2025-01-29</td>\n",
       "      <td>9.8</td>\n",
       "    </tr>\n",
       "    <tr>\n",
       "      <th>67</th>\n",
       "      <td>哈尔的移动城堡</td>\n",
       "      <td>2024-04-30</td>\n",
       "      <td>9.5</td>\n",
       "    </tr>\n",
       "  </tbody>\n",
       "</table>\n",
       "</div>"
      ],
      "text/plain": [
       "       电影名称             上映时间   评分\n",
       "0     我不是药神       2018-07-05  9.6\n",
       "1    肖申克的救赎  1994-09-10(加拿大)  9.5\n",
       "3       绿皮书       2019-03-01  9.5\n",
       "6   这个杀手不太冷       2024-11-01  9.6\n",
       "9     泰坦尼克号       1998-04-03  9.6\n",
       "15  哪吒之魔童降世       2019-07-26  9.6\n",
       "17    寻梦环游记       2017-11-24  9.6\n",
       "22   摔跤吧！爸爸       2017-05-05  9.8\n",
       "23   放牛班的春天       2004-10-16  9.5\n",
       "36    疯狂动物城       2016-03-04  9.5\n",
       "44    海蒂和爷爷       2019-05-16  9.5\n",
       "50  哪吒之魔童闹海       2025-01-29  9.8\n",
       "67  哈尔的移动城堡       2024-04-30  9.5"
      ]
     },
     "execution_count": 2,
     "metadata": {},
     "output_type": "execute_result"
    }
   ],
   "source": [
    "df[df.评分 >= 9.5].loc[:,['电影名称','上映时间', '评分']]\n"
   ]
  },
  {
   "cell_type": "code",
   "execution_count": 3,
   "id": "713c62a7-d2ee-4bdc-9be4-d96c353cb017",
   "metadata": {},
   "outputs": [
    {
     "data": {
      "text/plain": [
       "13"
      ]
     },
     "execution_count": 3,
     "metadata": {},
     "output_type": "execute_result"
    }
   ],
   "source": [
    "count_greater = df[df.评分>=9.5].shape[0]\n",
    "count_greater "
   ]
  },
  {
   "cell_type": "code",
   "execution_count": 4,
   "id": "2d468f0c-1373-48eb-9d12-51d95f76afdc",
   "metadata": {},
   "outputs": [
    {
     "data": {
      "text/plain": [
       "87"
      ]
     },
     "execution_count": 4,
     "metadata": {},
     "output_type": "execute_result"
    }
   ],
   "source": [
    "count_less = df[df.评分<9.5].shape[0]\n",
    "count_less"
   ]
  },
  {
   "cell_type": "code",
   "execution_count": 5,
   "id": "99d0714b-ffb5-4dd0-9ac9-365d41356a76",
   "metadata": {},
   "outputs": [
    {
     "data": {
      "text/html": [
       "<div>\n",
       "<style scoped>\n",
       "    .dataframe tbody tr th:only-of-type {\n",
       "        vertical-align: middle;\n",
       "    }\n",
       "\n",
       "    .dataframe tbody tr th {\n",
       "        vertical-align: top;\n",
       "    }\n",
       "\n",
       "    .dataframe thead th {\n",
       "        text-align: right;\n",
       "    }\n",
       "</style>\n",
       "<table border=\"1\" class=\"dataframe\">\n",
       "  <thead>\n",
       "    <tr style=\"text-align: right;\">\n",
       "      <th></th>\n",
       "      <th>count_greater</th>\n",
       "      <th>count_less</th>\n",
       "    </tr>\n",
       "  </thead>\n",
       "  <tbody>\n",
       "    <tr>\n",
       "      <th>0</th>\n",
       "      <td>13</td>\n",
       "      <td>87</td>\n",
       "    </tr>\n",
       "  </tbody>\n",
       "</table>\n",
       "</div>"
      ],
      "text/plain": [
       "   count_greater  count_less\n",
       "0             13          87"
      ]
     },
     "execution_count": 5,
     "metadata": {},
     "output_type": "execute_result"
    }
   ],
   "source": [
    "dic_num={\n",
    "    'count_greater': [13], #注意要写成列表\n",
    "    'count_less': [87],\n",
    "}\n",
    "df_num = pd.DataFrame(dic_num)\n",
    "df_num"
   ]
  },
  {
   "cell_type": "code",
   "execution_count": 11,
   "id": "bcb21868-0a26-45d8-97b4-fabdb7474a57",
   "metadata": {},
   "outputs": [
    {
     "data": {
      "text/plain": [
       "count_greater    13\n",
       "count_less       87\n",
       "Name: 0, dtype: int64"
      ]
     },
     "execution_count": 11,
     "metadata": {},
     "output_type": "execute_result"
    }
   ],
   "source": [
    "df_pie = df_num.T.loc[:,0].copy()   #T 转置，快捷。只取第一列，构成series数据，plt只能用series\n",
    "df_pie"
   ]
  },
  {
   "cell_type": "code",
   "execution_count": 16,
   "id": "e2d7de2d-2bc2-4d0a-8ec5-989a0d2b6918",
   "metadata": {},
   "outputs": [
    {
     "data": {
      "text/plain": [
       "<Axes: title={'center': '评分占比'}, ylabel='0'>"
      ]
     },
     "execution_count": 16,
     "metadata": {},
     "output_type": "execute_result"
    },
    {
     "data": {
      "image/png": "[encoded data removed]",
      "text/plain": [
       "<Figure size 640x480 with 1 Axes>"
      ]
     },
     "metadata": {},
     "output_type": "display_data"
    }
   ],
   "source": [
    "df_pie.plot.pie(\n",
    "    autopct= '%1.1f%%',\n",
    "    title = '评分占比',\n",
    ")\n",
    "\n"
   ]
  },
  {
   "cell_type": "code",
   "execution_count": 15,
   "id": "0415be35-8507-4197-bb24-02dee968dd69",
   "metadata": {},
   "outputs": [
    {
     "ename": "TypeError",
     "evalue": "bar() missing 1 required positional argument: 'height'",
     "output_type": "error",
     "traceback": [
      "\u001b[31m---------------------------------------------------------------------------\u001b[39m",
      "\u001b[31mTypeError\u001b[39m                                 Traceback (most recent call last)",
      "\u001b[36mCell\u001b[39m\u001b[36m \u001b[39m\u001b[32mIn[15]\u001b[39m\u001b[32m, line 1\u001b[39m\n\u001b[32m----> \u001b[39m\u001b[32m1\u001b[39m \u001b[43mplt\u001b[49m\u001b[43m.\u001b[49m\u001b[43mbar\u001b[49m\u001b[43m(\u001b[49m\u001b[43mdf_pie\u001b[49m\u001b[43m)\u001b[49m\n",
      "\u001b[31mTypeError\u001b[39m: bar() missing 1 required positional argument: 'height'"
     ]
    }
   ],
   "source": []
  },
  {
   "cell_type": "code",
   "execution_count": null,
   "id": "de2abd58-3075-4e63-9cb1-e9e6b49afaf3",
   "metadata": {},
   "outputs": [],
   "source": []
  }
 ],
 "metadata": {
  "kernelspec": {
   "display_name": "Python 3 (ipykernel)",
   "language": "python",
   "name": "python3"
  },
  "language_info": {
   "codemirror_mode": {
    "name": "ipython",
    "version": 3
   },
   "file_extension": ".py",
   "mimetype": "text/x-python",
   "name": "python",
   "nbconvert_exporter": "python",
   "pygments_lexer": "ipython3",
   "version": "3.11.5"
  }
 },
 "nbformat": 4,
 "nbformat_minor": 5
}
